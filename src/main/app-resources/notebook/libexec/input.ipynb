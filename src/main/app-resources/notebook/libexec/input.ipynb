{
 "cells": [
  {
   "cell_type": "markdown",
   "metadata": {
    "slideshow": {
     "slide_type": "skip"
    }
   },
   "source": [
    "## WFP-01-03-02 CHIRPS Rainfall Estimates (RFE) - Aggregations"
   ]
  },
  {
   "cell_type": "markdown",
   "metadata": {},
   "source": [
    " This application generates Rainfall Estimates (RFE) aggregations, from CHIRPS RFE 5km resolution, compared to a reference period."
   ]
  },
  {
   "cell_type": "markdown",
   "metadata": {
    "slideshow": {
     "slide_type": "slide"
    }
   },
   "source": [
    "### <a name=\"objective\">Objective \n",
    "\n",
    "The objective of this code is to determine:\n",
    "    - Sum of daily data over the past N days, derived every 10 days (N = 10, 30, 60, 90, 120, 150, 180, 270, 365 days)\n",
    "    - Counts of daily data above 1mm over the past N days, derived every 10 days (N = 30, 60, 90 days).\n",
    "    - Longest sequence of daily values < 2mm (\"dry spell\") within the last N days, derived every 10 days (N = 30, 60, 90 days).\n"
   ]
  },
  {
   "cell_type": "markdown",
   "metadata": {},
   "source": [
    "### <a name=\"service\">Service definition"
   ]
  },
  {
   "cell_type": "code",
   "execution_count": 1,
   "metadata": {
    "collapsed": true
   },
   "outputs": [],
   "source": [
    "service = dict([('title', 'CHIRPS Rainfall Estimates (RFE) - Aggregations'),\n",
    "                ('abstract', 'TBD'),\n",
    "                ('id', 'wfp-01-03-02')])"
   ]
  },
  {
   "cell_type": "markdown",
   "metadata": {},
   "source": [
    "### <a name=\"runtime\">Runtime parameter definition"
   ]
  },
  {
   "cell_type": "markdown",
   "metadata": {},
   "source": [
    "**Input references**\n",
    "\n",
    "This is the CHIRPS stack catalogue references"
   ]
  },
  {
   "cell_type": "code",
   "execution_count": 2,
   "metadata": {},
   "outputs": [],
   "source": [
    "input_references = 'https://catalog.terradue.com/chirps/search?format=atom&uid=chirps-v2.0.2017.03.10'"
   ]
  },
  {
   "cell_type": "code",
   "execution_count": 4,
   "metadata": {},
   "outputs": [],
   "source": [
    "N_10 = dict([('id', 'N_10'),\n",
    "                          ('value', 'False'),\n",
    "                          ('title', '10 Day Aggregation'),\n",
    "                          ('abstract', 'Get a 10 day aggregation')])"
   ]
  },
  {
   "cell_type": "code",
   "execution_count": 5,
   "metadata": {
    "collapsed": false,
    "slideshow": {
     "slide_type": "subslide"
    }
   },
   "outputs": [],
   "source": [
    "N_30 = dict([('id', 'N_30'),\n",
    "                          ('value', 'True'),\n",
    "                          ('title', '30 Day Aggregation'),\n",
    "                          ('abstract', 'Get a 30 day aggregation')])"
   ]
  },
  {
   "cell_type": "code",
   "execution_count": 6,
   "metadata": {},
   "outputs": [],
   "source": [
    "N_60 = dict([('id', 'N_60'),\n",
    "                          ('value', 'False'),\n",
    "                          ('title', '60 Day Aggregation'),\n",
    "                          ('abstract', 'Get a 60 day aggregation')])"
   ]
  },
  {
   "cell_type": "code",
   "execution_count": 7,
   "metadata": {},
   "outputs": [],
   "source": [
    "N_90 = dict([('id', 'N_90'),\n",
    "                          ('value', 'False'),\n",
    "                          ('title', '90 Day Aggregation'),\n",
    "                          ('abstract', 'Get a 90 day aggregation')])"
   ]
  },
  {
   "cell_type": "code",
   "execution_count": 8,
   "metadata": {},
   "outputs": [],
   "source": [
    "N_120 = dict([('id', 'N_120'),\n",
    "                          ('value', 'False'),\n",
    "                          ('title', '120 Day Aggregation'),\n",
    "                          ('abstract', 'Get a 120 day aggregation')])"
   ]
  },
  {
   "cell_type": "code",
   "execution_count": 9,
   "metadata": {},
   "outputs": [],
   "source": [
    "N_150 = dict([('id', 'N_150'),\n",
    "                          ('value', 'False'),\n",
    "                          ('title', '150 Day Aggregation'),\n",
    "                          ('abstract', 'Get a 150 day aggregation')])"
   ]
  },
  {
   "cell_type": "code",
   "execution_count": 10,
   "metadata": {},
   "outputs": [],
   "source": [
    "N_180 = dict([('id', 'N_180'),\n",
    "                          ('value', 'False'),\n",
    "                          ('title', '180 Day Aggregation'),\n",
    "                          ('abstract', 'Get a 180 day aggregation')])"
   ]
  },
  {
   "cell_type": "code",
   "execution_count": 11,
   "metadata": {},
   "outputs": [],
   "source": [
    "N_270 = dict([('id', 'N_270'),\n",
    "                          ('value', 'False'),\n",
    "                          ('title', '270 Day Aggregation'),\n",
    "                          ('abstract', 'Get a 270 day aggregation')])"
   ]
  },
  {
   "cell_type": "code",
   "execution_count": 12,
   "metadata": {},
   "outputs": [],
   "source": [
    "N_365 = dict([('id', 'N_365'),\n",
    "                          ('value', 'False'),\n",
    "                          ('title', '365 Day Aggregation'),\n",
    "                          ('abstract', 'Get a 365 day aggregation')])"
   ]
  },
  {
   "cell_type": "code",
   "execution_count": 13,
   "metadata": {},
   "outputs": [],
   "source": [
    "regionOfInterest = dict([('id', 'regionOfInterest'),\n",
    "                          ('value', 'POLYGON ((11.50307555189977 -11.11416337069092, 41.03432555189977 -11.11416337069092, 41.03432555189977 -34.97636566938584, 11.50307555189977 -34.97636566938584, 11.50307555189977 -11.11416337069092))'),\n",
    "                          ('title', 'WKT Polygon for the Region of Interest'),\n",
    "                          ('abstract', 'Set the value of WKT Polygon')])"
   ]
  },
  {
   "cell_type": "code",
   "execution_count": 14,
   "metadata": {},
   "outputs": [],
   "source": [
    "nameOfRegion = dict([('id', 'nameOfRegion'),\n",
    "                     ('value',  ''),\n",
    "                     ('title', 'Name of Region'),\n",
    "                     ('abstract', 'Name of the region of interest'),\n",
    "                     ('minOccurs', '1')])"
   ]
  },
  {
   "cell_type": "code",
   "execution_count": 15,
   "metadata": {},
   "outputs": [
    {
     "data": {
      "text/plain": [
       "\"LTA_list = dict([('id', 'LTA_list'),\\n                ('value', ''),\\n                ('title', 'List of Long-time Averages'),\\n                ('abstract', 'List of LTAs to calculate Anomalies'),\\n                ('maxOccurs', '40')])\\n\""
      ]
     },
     "execution_count": 15,
     "metadata": {},
     "output_type": "execute_result"
    }
   ],
   "source": [
    "'''LTA_list = dict([('id', 'LTA_list'),\n",
    "                ('value', ''),\n",
    "                ('title', 'List of Long-time Averages'),\n",
    "                ('abstract', 'List of LTAs to calculate Anomalies'),\n",
    "                ('maxOccurs', '40')])\n",
    "'''"
   ]
  },
  {
   "cell_type": "markdown",
   "metadata": {},
   "source": [
    "### <a name=\"workflow\">Workflow"
   ]
  },
  {
   "cell_type": "markdown",
   "metadata": {},
   "source": [
    "#### Import the packages required for processing the data"
   ]
  },
  {
   "cell_type": "code",
   "execution_count": 16,
   "metadata": {
    "collapsed": true
   },
   "outputs": [
    {
     "name": "stdout",
     "output_type": "stream",
     "text": [
      "['', '/opt/anaconda/lib/python27.zip', '/opt/anaconda/lib/python2.7', '/opt/anaconda/lib/python2.7/plat-linux2', '/opt/anaconda/lib/python2.7/lib-tk', '/opt/anaconda/lib/python2.7/lib-old', '/opt/anaconda/lib/python2.7/lib-dynload', '/opt/anaconda/lib/python2.7/site-packages/Glymur-0.8.6-py2.7.egg', '/opt/anaconda/lib/python2.7/site-packages/click_plugins-1.0.3-py2.7.egg', '/opt/anaconda/lib/python2.7/site-packages/setuptools-23.0.0-py2.7.egg', '/opt/anaconda/lib/python2.7/site-packages/vincent-0.4.4-py2.7.egg', '/opt/anaconda/lib/python2.7/site-packages', '/opt/anaconda/lib/python2.7/site-packages/PIL', '/opt/anaconda/lib/python2.7/site-packages/IPython/extensions', '/home/rirr/.ipython', '/workspace/wfp-01-03-02/src/main/app-resources/notebook/libexec', '/application/notebook/libexec/']\n"
     ]
    }
   ],
   "source": [
    "from osgeo import gdal, ogr, osr\n",
    "from geopandas import GeoDataFrame\n",
    "from datetime import datetime\n",
    "import gzip\n",
    "import cioppy\n",
    "import shutil\n",
    "import sys\n",
    "import numpy as np\n",
    "import pandas as pd\n",
    "import math\n",
    "import re\n",
    "import os\n",
    "sys.path.append(os.getcwd())\n",
    "sys.path.append('/application/notebook/libexec/')\n",
    "from aux_functions import matrix_sum, mask_matrix, crop_image, write_output_image, get_matrix_list\n",
    "print(sys.path)"
   ]
  },
  {
   "cell_type": "code",
   "execution_count": 17,
   "metadata": {},
   "outputs": [],
   "source": [
    "def get_info(row, search_params):\n",
    "    search = ciop.search(end_point=row['catalogue_url'], \n",
    "                                  params=search_params,\n",
    "                                  output_fields='self,identifier,startdate,enclosure',\n",
    "                                  model='GeoTime')[0]\n",
    "    \n",
    "    series = pd.Series(search)\n",
    "    \n",
    "    series['startdate'] = pd.to_datetime(series['startdate'])\n",
    "    \n",
    "    return series"
   ]
  },
  {
   "cell_type": "code",
   "execution_count": 18,
   "metadata": {},
   "outputs": [
    {
     "name": "stdout",
     "output_type": "stream",
     "text": [
      "2017-01-01\n",
      "2017-01-31\n",
      "31\n",
      "ftp://anonymous@ftp.chg.ucsb.edu/pub/org/chg/products/CHIRPS-2.0/global_daily/tifs/p05/2017/chirps-v2.0.2017.01.01.tif.gz\n"
     ]
    }
   ],
   "source": [
    "if isinstance(input_references, str):\n",
    "    input_references = [input_references]\n",
    "\n",
    "nameOfRegion = nameOfRegion['value']\n",
    "#nameOfRegion = 'SouthAfrica'\n",
    "\n",
    "ciop = cioppy.Cioppy()\n",
    "\n",
    "gpd_data = GeoDataFrame(input_references,\n",
    "                       columns=['catalogue_url'])\n",
    "\n",
    "region_of_interest = regionOfInterest['value']\n",
    "gpd_data = gpd_data.sort_values(by='catalogue_url')\n",
    "start_date = re.findall('\\d{4}\\.\\d{2}\\.\\d{2}', gpd_data.iloc[0]['catalogue_url'])[0].replace('.', '-')\n",
    "end_date = re.findall('\\d{4}\\.\\d{2}\\.\\d{2}', gpd_data.iloc[-1]['catalogue_url'])[0].replace('.', '-')\n",
    "print(start_date)\n",
    "print(end_date)\n",
    "print(len(input_references))\n",
    "search_params =  dict([('start', start_date),\n",
    "                      ('stop', end_date),\n",
    "                      ('count', len(input_references))])\n",
    "gpd_final = gpd_data.apply(lambda row: get_info(row, search_params), axis=1)\n",
    "gpd_final.head()\n",
    "#Insert code here to convert the LTA List to a Geopandas Data Frame\n",
    "#lta_data = GeoDataFrame(LTA_list, columns=['catalogue_url'])\n",
    "\n",
    "print(gpd_final.iloc[0]['enclosure'])"
   ]
  },
  {
   "cell_type": "code",
   "execution_count": 19,
   "metadata": {},
   "outputs": [
    {
     "data": {
      "text/plain": [
       "\"\\ntest_lta = np.array([['', 'start_date', 'end_date', 'enclosure'],\\n                    ['1', '2015.04.01', '2017.04.10', 'LTA.CHIRPSv2.N10.days_total.2015.4.1.2017.4.10.tif'],\\n                    ['2', '2015.04.11', '2017.04.20', 'LTA.CHIRPSv2.N10.days_total.2015.4.11.2017.4.20.tif']])\\n\\nlta_data = GeoDataFrame(data=test_lta[1:,1:],\\n                        index=test_lta[1:,0],\\n                        columns=test_lta[0,1:])\\nlta_data['start_date'] = pd.to_datetime(lta_data['start_date'])\\nlta_data['end_date'] = pd.to_datetime(lta_data['end_date'])\\nprint(lta_data)\\n\""
      ]
     },
     "execution_count": 19,
     "metadata": {},
     "output_type": "execute_result"
    }
   ],
   "source": [
    "'''\n",
    "test_lta = np.array([['', 'start_date', 'end_date', 'enclosure'],\n",
    "                    ['1', '2015.04.01', '2017.04.10', 'LTA.CHIRPSv2.N10.days_total.2015.4.1.2017.4.10.tif'],\n",
    "                    ['2', '2015.04.11', '2017.04.20', 'LTA.CHIRPSv2.N10.days_total.2015.4.11.2017.4.20.tif']])\n",
    "\n",
    "lta_data = GeoDataFrame(data=test_lta[1:,1:],\n",
    "                        index=test_lta[1:,0],\n",
    "                        columns=test_lta[0,1:])\n",
    "lta_data['start_date'] = pd.to_datetime(lta_data['start_date'])\n",
    "lta_data['end_date'] = pd.to_datetime(lta_data['end_date'])\n",
    "print(lta_data)\n",
    "'''"
   ]
  },
  {
   "cell_type": "code",
   "execution_count": 20,
   "metadata": {},
   "outputs": [
    {
     "data": {
      "text/plain": [
       "\"\\ndef get_lta_from_dataframe(dataframe, aggregation, start_day, end_day, start_month, end_month):\\n    dataframe_agr = dataframe[(dataframe['enclosure'].str.contains(aggregation))]\\n    return dataframe_agr[(dataframe_agr['start_date'].dt.day == start_day) & \\n                     (dataframe_agr['start_date'].dt.month == start_month) & \\n                     (dataframe_agr['end_date'].dt.day == end_day) & \\n                     (dataframe_agr['end_date'].dt.month == end_month)]['enclosure'].tolist()\\n\""
      ]
     },
     "execution_count": 20,
     "metadata": {},
     "output_type": "execute_result"
    }
   ],
   "source": [
    "'''\n",
    "def get_lta_from_dataframe(dataframe, aggregation, start_day, end_day, start_month, end_month):\n",
    "    dataframe_agr = dataframe[(dataframe['enclosure'].str.contains(aggregation))]\n",
    "    return dataframe_agr[(dataframe_agr['start_date'].dt.day == start_day) & \n",
    "                     (dataframe_agr['start_date'].dt.month == start_month) & \n",
    "                     (dataframe_agr['end_date'].dt.day == end_day) & \n",
    "                     (dataframe_agr['end_date'].dt.month == end_month)]['enclosure'].tolist()\n",
    "'''"
   ]
  },
  {
   "cell_type": "code",
   "execution_count": 21,
   "metadata": {},
   "outputs": [],
   "source": [
    "def calc_aggregations(product_list, N_value, region_of_interest):\n",
    "    mask_no_data_value = 0\n",
    "    sum_result = 0\n",
    "    count_above_one = 0\n",
    "    max_sequence = 0\n",
    "    temp_mat = 0\n",
    "    regions_below_two = 0\n",
    "    projection = None\n",
    "    geo_transform = None\n",
    "    print(type(product_list))\n",
    "    \n",
    "    for chirp_product_url in product_list:\n",
    "        # uncompressed data\n",
    "        chirp_product = (chirp_product_url.split('/')[-1]).split('.gz')[0]\n",
    "        print(chirp_product)\n",
    "        cropped_product_path = 'crop_' + chirp_product\n",
    "        try:\n",
    "            crop_image(chirp_product_url, region_of_interest, cropped_product_path)\n",
    "            # Read GeoTIFF as an array\n",
    "            dataset = gdal.Open(cropped_product_path)\n",
    "            product_array = dataset.GetRasterBand(1).ReadAsArray()\n",
    "            no_data_value = dataset.GetRasterBand(1).GetNoDataValue()\n",
    "            geo_transform = dataset.GetGeoTransform()\n",
    "            projection = dataset.GetProjection()\n",
    "            ## Create mask of no_data_values\n",
    "            if isinstance(mask_no_data_value, int):\n",
    "                mask_no_data_value = np.where(product_array == no_data_value, 1, 0)\n",
    "            else:\n",
    "                temp_mask = np.where(product_array == no_data_value, 1, 0)\n",
    "                mask_no_data_value = matrix_sum(mask_no_data_value, temp_mask)\n",
    "\n",
    "            ## Create iteratively the sum array\n",
    "            sum_result = matrix_sum(sum_result, product_array, no_data_value)\n",
    "            ## Create iteratively the array with the counts of daily data above 1mm\n",
    "            if N_value == 30 or N_value == 60 or N_value == 90:\n",
    "                regions_above_one = mask_matrix(product_array, 1, True, no_data_value)\n",
    "                count_above_one = matrix_sum(count_above_one, regions_above_one)\n",
    "\n",
    "                ## Create iteratively the array with the longest sequence of daily values <2mm\n",
    "                regions_below_two = mask_matrix(product_array, 2, False, no_data_value)\n",
    "                temp_mat = matrix_sum(temp_mat, regions_below_two)\n",
    "                if isinstance(max_sequence, int):\n",
    "                    max_sequence = temp_mat\n",
    "                max_sequence[regions_below_two == 0] = np.maximum(max_sequence[regions_below_two == 0], temp_mat[regions_below_two == 0])\n",
    "                temp_mat[regions_below_two == 0] = 0\n",
    "            dataset = None\n",
    "\n",
    "            if os.path.exists(cropped_product_path):\n",
    "                os.remove(cropped_product_path)\n",
    "        except AttributeError as attr_err:\n",
    "            print('ERROR reading image. Aborting aggregation. Details: ' + str(attr_err))\n",
    "            sum_result = None\n",
    "            count_above_one = None\n",
    "            max_sequence = None\n",
    "            mask_no_data_value = None\n",
    "            projection = None\n",
    "            geo_transform = None\n",
    "            break\n",
    "        if N_value == 30 or N_value == 60 or N_value == 90:\n",
    "            max_sequence[temp_mat != 0] = np.maximum(max_sequence[temp_mat != 0], temp_mat[temp_mat != 0])\n",
    "    return sum_result, count_above_one, max_sequence, mask_no_data_value, projection, geo_transform"
   ]
  },
  {
   "cell_type": "code",
   "execution_count": 22,
   "metadata": {},
   "outputs": [],
   "source": [
    "def write_outputs(roi_name, first_date, last_date, sum_result, count_above_one, max_sequence, mask_no_data_value, image_format, product_count, projection, geo_transform, no_data_value):\n",
    "    image_number = (datetime.strptime(last_date, '%Y-%m-%d') - datetime.strptime(first_date, '%Y-%m-%d')).days\n",
    "    filenames = []\n",
    "    filenames.append('CHIRPSv2_' + roi_name + '_N' + str(product_count) + '_daystotal_' + first_date + '_' + last_date + '.tif')\n",
    "    write_output_image(filenames[0], sum_result, image_format, image_number, projection, geo_transform, mask_no_data_value, no_data_value)\n",
    "    if product_count == 30 or product_count == 60 or product_count == 90:\n",
    "        filenames.append('CHIRPSv2_' + roi_name + '_N' + str(product_count) + '_countaboveone_' + first_date + '_' + last_date + '.tif')\n",
    "        filenames.append('CHIRPSv2_' + roi_name + '_N' + str(product_count) + '_dryspell_' + first_date + '_' + last_date + '.tif')\n",
    "        write_output_image(filenames[1], count_above_one, image_format, image_number, projection, geo_transform, mask_no_data_value, no_data_value)\n",
    "        write_output_image(filenames[2], max_sequence, image_format, image_number, projection, geo_transform, mask_no_data_value, no_data_value)\n",
    "    return filenames"
   ]
  },
  {
   "cell_type": "code",
   "execution_count": 23,
   "metadata": {},
   "outputs": [],
   "source": [
    "def get_formatted_date(product_reference):\n",
    "    metadata = ciop.search(end_point=product_reference,\n",
    "                           params=[],\n",
    "                           output_fields='identifier,startdate',\n",
    "                           model=\"GeoTime\")\n",
    "    return metadata[0]['startdate']"
   ]
  },
  {
   "cell_type": "code",
   "execution_count": 24,
   "metadata": {},
   "outputs": [],
   "source": [
    "def write_properties_file(dataframe, output_name):\n",
    "    \n",
    "    title = 'Output %s' % output_name\n",
    "    first_date = get_formatted_date(dataframe.iloc[0]['self'])\n",
    "    last_date = get_formatted_date(dataframe.iloc[-1]['self'])\n",
    "    with open(output_name + '.properties', 'wb') as file:\n",
    "        file.write('title=%s\\n' % title)\n",
    "        file.write('date=%s/%s\\n' % (first_date, last_date))\n",
    "        file.write('geometry=%s' % (regionOfInterest['value']))"
   ]
  },
  {
   "cell_type": "code",
   "execution_count": 25,
   "metadata": {},
   "outputs": [
    {
     "name": "stdout",
     "output_type": "stream",
     "text": [
      "2017-01-01\n",
      "2017-01-31\n",
      "<type 'list'>\n",
      "chirps-v2.0.2017.01.01.tif\n",
      "chirps-v2.0.2017.01.02.tif\n",
      "chirps-v2.0.2017.01.03.tif\n",
      "chirps-v2.0.2017.01.04.tif\n",
      "chirps-v2.0.2017.01.05.tif\n",
      "chirps-v2.0.2017.01.06.tif\n",
      "chirps-v2.0.2017.01.07.tif\n",
      "chirps-v2.0.2017.01.08.tif\n",
      "chirps-v2.0.2017.01.09.tif\n",
      "chirps-v2.0.2017.01.10.tif\n",
      "chirps-v2.0.2017.01.11.tif\n",
      "chirps-v2.0.2017.01.12.tif\n",
      "chirps-v2.0.2017.01.13.tif\n",
      "chirps-v2.0.2017.01.14.tif\n",
      "chirps-v2.0.2017.01.15.tif\n",
      "chirps-v2.0.2017.01.16.tif\n",
      "chirps-v2.0.2017.01.17.tif\n",
      "chirps-v2.0.2017.01.18.tif\n",
      "chirps-v2.0.2017.01.19.tif\n",
      "chirps-v2.0.2017.01.20.tif\n",
      "chirps-v2.0.2017.01.21.tif\n",
      "chirps-v2.0.2017.01.22.tif\n",
      "chirps-v2.0.2017.01.23.tif\n",
      "chirps-v2.0.2017.01.24.tif\n",
      "chirps-v2.0.2017.01.25.tif\n",
      "chirps-v2.0.2017.01.26.tif\n",
      "chirps-v2.0.2017.01.27.tif\n",
      "chirps-v2.0.2017.01.28.tif\n",
      "chirps-v2.0.2017.01.29.tif\n",
      "chirps-v2.0.2017.01.30.tif\n",
      "chirps-v2.0.2017.01.31.tif\n"
     ]
    }
   ],
   "source": [
    "nlist = [N_10['value'], N_30['value'], N_60['value'], N_90['value'], N_120['value'], N_150['value'], N_180['value'], N_270['value'], N_365['value']]\n",
    "nvalue = [10, 30, 60, 90, 120, 150, 180, 270, 365]\n",
    "nlist = [n=='True' for n in nlist]\n",
    "product_years = gpd_final['startdate'].dt.year.unique()\n",
    "for _year in product_years:\n",
    "    products_data = gpd_final[(gpd_final['startdate'].dt.year == _year)]\n",
    "    L = len(products_data.index.values)\n",
    "    months_of_products = products_data['startdate'].dt.month.unique()\n",
    "    for n in [index for index, value in enumerate(nlist) if value==True]:\n",
    "        N = nvalue[n]\n",
    "        n_months = N/30\n",
    "        if n_months > len(months_of_products):\n",
    "            print('Not enough products available for a aggregation of ' + str(N))\n",
    "            break\n",
    "        if N == 10:\n",
    "            for month_idx in months_of_products:\n",
    "                first_day = products_data[(products_data['startdate'].dt.month == month_idx)].iloc[0]['startdate'].day\n",
    "                last_day = products_data[(products_data['startdate'].dt.month == month_idx)].iloc[-1]['startdate'].day\n",
    "                for i in range(first_day, last_day, 10):\n",
    "                    start_date = products_data[((products_data['startdate'].dt.month == month_idx) & (products_data['startdate'].dt.day == i))]['startdate'].tolist()[0]\n",
    "                    if (i+9) < last_day:\n",
    "                        end_date = products_data[((products_data['startdate'].dt.month == month_idx) & (products_data['startdate'].dt.day == i+9))]['startdate'].tolist()[0]\n",
    "                    else:\n",
    "                        end_date = products_data[((products_data['startdate'].dt.month == month_idx) & (products_data['startdate'].dt.day == last_day))]['startdate'].tolist()[0]\n",
    "                    \n",
    "                    interval_gpd = products_data[(products_data['startdate'] >= start_date) & (products_data['startdate'] <= end_date)]\n",
    "                    interval_products = interval_gpd['enclosure'].tolist()\n",
    "                    \n",
    "                    start_date = start_date.strftime('%Y-%m-%d')\n",
    "                    end_date = end_date.strftime('%Y-%m-%d')\n",
    "                    print(start_date)\n",
    "                    print(end_date)\n",
    "                    daily_sum, count_above_one, longest_sequence, no_value, projection, geo_transform = calc_aggregations(interval_products, N, region_of_interest)\n",
    "                    '''\n",
    "                    #Query the data frame for the required LTAs\n",
    "                    LTA_daily_sum = get_lta_from_dataframe(lta_data, 'days_total', start_date.day, end_date.day, start_date.month, end_date.month)\n",
    "                    print(LTA_daily_sum)\n",
    "                    if LTA_daily_sum:\n",
    "                        LTA_daily_sum = get_matrix_list(LTA_daily_sum)[0]\n",
    "                        anomaly_daily_sum = np.divide(daily_sum, LTA_daily_sum)\n",
    "                        print(anomaly_daily_sum)\n",
    "                    '''\n",
    "                    if daily_sum is not None:\n",
    "                        filenames = write_outputs(nameOfRegion, start_date, end_date, daily_sum, count_above_one, longest_sequence, no_value, 'GTiff', N, projection, geo_transform, -999.0)\n",
    "                        for output_name in filenames:\n",
    "                            write_properties_file(interval_gpd, output_name)\n",
    "\n",
    "        else:\n",
    "            if N == 30:\n",
    "                for month_idx in months_of_products:\n",
    "                    start_date = products_data[(products_data['startdate'].dt.month == month_idx)].iloc[0]['startdate']\n",
    "                    end_date = products_data[(products_data['startdate'].dt.month == month_idx)].iloc[-1]['startdate']\n",
    "                    \n",
    "                    interval_gpd = products_data[(products_data['startdate'] >= start_date) & (products_data['startdate'] <= end_date)]\n",
    "                    interval_products = interval_gpd['enclosure'].tolist()\n",
    "\n",
    "                    start_date = start_date.strftime('%Y-%m-%d')\n",
    "                    end_date = end_date.strftime('%Y-%m-%d')\n",
    "                    print(start_date)\n",
    "                    print(end_date)\n",
    "                    daily_sum, count_above_one, longest_sequence, no_value, projection, geo_transform = calc_aggregations(interval_products, N, region_of_interest)\n",
    "                    \n",
    "                    '''\n",
    "                    LTA_daily_sum = get_lta_from_dataframe(lta_data, 'days_total', start_date.day, end_date.day, start_date.month, end_date.month)\n",
    "                    LTA_count_above_one = get_lta_from_dataframe(lta_data, 'count_above_one', start_date.day, end_date.day, start_date.month, end_date.month)\n",
    "                \n",
    "                    if LTA_daily_sum:\n",
    "                        LTA_daily_sum = get_matrix_list(LTA_daily_sum)[0]\n",
    "                        anomaly_daily_sum = np.divide(daily_sum, LTA_daily_sum)\n",
    "                    if LTA_count_above_one:\n",
    "                        LTA_count_above_one = get_matrix_list(LTA_count_above_one)[0]\n",
    "                        anomaly_count_above_one = np.divide(count_above_one, LTA_count_above_one)\n",
    "                    '''\n",
    "                    if daily_sum is not None:\n",
    "                        filenames = write_outputs(nameOfRegion, start_date, end_date, daily_sum, count_above_one, longest_sequence, no_value, 'GTiff', N, projection, geo_transform, -999.0)\n",
    "                        for output_name in filenames:\n",
    "                            write_properties_file(interval_gpd, output_name)\n",
    "                    \n",
    "            else:\n",
    "                for month_idx in range(months_of_products[0], months_of_products[-1], n_months):\n",
    "                    start_date = products_data[(products_data['startdate'].dt.month == month_idx)].iloc[0]['startdate']\n",
    "                    end_date = products_data[(products_data['startdate'].dt.month == month_idx + n_months-1)].iloc[-1]['startdate']\n",
    "                    \n",
    "                    interval_gpd = products_data[(products_data['startdate'] >= start_date) & (products_data['startdate'] <= end_date)]\n",
    "                    interval_products = interval_gpd['enclosure'].tolist()\n",
    "                    \n",
    "                    start_date = start_date.strftime('%Y-%m-%d')\n",
    "                    end_date = end_date.strftime('%Y-%m-%d')\n",
    "                    print(start_date)\n",
    "                    print(end_date)\n",
    "                    daily_sum, count_above_one, longest_sequence, no_value, projection, geo_transform = calc_aggregations(interval_products, N, region_of_interest)\n",
    "                    \n",
    "                    '''\n",
    "                    LTA_daily_sum = get_lta_from_dataframe(lta_data, 'days_total', start_date.day, end_date.day, start_date.month, end_date.month)\n",
    "                    LTA_count_above_one = get_lta_from_dataframe(lta_data, 'count_above_one', start_date.day, end_date.day, start_date.month, end_date.month)\n",
    "                \n",
    "                    if LTA_daily_sum:\n",
    "                        LTA_daily_sum = get_matrix_list(LTA_daily_sum)[0]\n",
    "                        anomaly_daily_sum = np.divide(daily_sum, LTA_daily_sum)\n",
    "                    if LTA_count_above_one:\n",
    "                        LTA_count_above_one = get_matrix_list(LTA_count_above_one)[0]\n",
    "                        anomaly_count_above_one = np.divide(count_above_one, LTA_count_above_one)\n",
    "                    '''\n",
    "                    if daily_sum is not None:\n",
    "                        filenames = write_outputs(nameOfRegion, start_date, end_date, daily_sum, count_above_one, longest_sequence, no_value, 'GTiff', N, projection, geo_transform, -999.0)\n",
    "                        for output_name in filenames:\n",
    "                            write_properties_file(interval_gpd, output_name)"
   ]
  },
  {
   "cell_type": "raw",
   "metadata": {},
   "source": [
    "#### Read the products"
   ]
  },
  {
   "cell_type": "code",
   "execution_count": 26,
   "metadata": {
    "collapsed": false,
    "scrolled": true,
    "slideshow": {
     "slide_type": "subslide"
    }
   },
   "outputs": [
    {
     "data": {
      "text/plain": [
       "'\\nfrom matplotlib import pyplot\\n%matplotlib inline\\n\\n\\nfig0 = pyplot.figure()\\nax0 = fig0.add_subplot(111)\\ncax0 = ax0.matshow(daily_sum)\\nfig0.colorbar(cax0)\\n\\nfig1 = pyplot.figure()\\nax1 = fig1.add_subplot(111)\\ncax1 = ax1.matshow(count_above_one)\\nfig1.colorbar(cax1)\\n\\n\\nfig = pyplot.figure()\\nax = fig.add_subplot(111)\\ncax = ax.matshow(no_value)\\nfig.colorbar(cax)\\n\\n\\nfig2 = pyplot.figure()\\nax2 = fig2.add_subplot(111)\\ncax2 = ax2.matshow(longest_sequence)\\nfig2.colorbar(cax2)\\n\\npyplot.show()\\n'"
      ]
     },
     "execution_count": 26,
     "metadata": {},
     "output_type": "execute_result"
    }
   ],
   "source": [
    "'''\n",
    "from matplotlib import pyplot\n",
    "%matplotlib inline\n",
    "\n",
    "\n",
    "fig0 = pyplot.figure()\n",
    "ax0 = fig0.add_subplot(111)\n",
    "cax0 = ax0.matshow(daily_sum)\n",
    "fig0.colorbar(cax0)\n",
    "\n",
    "fig1 = pyplot.figure()\n",
    "ax1 = fig1.add_subplot(111)\n",
    "cax1 = ax1.matshow(count_above_one)\n",
    "fig1.colorbar(cax1)\n",
    "\n",
    "\n",
    "fig = pyplot.figure()\n",
    "ax = fig.add_subplot(111)\n",
    "cax = ax.matshow(no_value)\n",
    "fig.colorbar(cax)\n",
    "\n",
    "\n",
    "fig2 = pyplot.figure()\n",
    "ax2 = fig2.add_subplot(111)\n",
    "cax2 = ax2.matshow(longest_sequence)\n",
    "fig2.colorbar(cax2)\n",
    "\n",
    "pyplot.show()\n",
    "'''"
   ]
  },
  {
   "cell_type": "code",
   "execution_count": null,
   "metadata": {},
   "outputs": [],
   "source": []
  }
 ],
 "metadata": {
  "kernelspec": {
   "display_name": "Python 2",
   "language": "python",
   "name": "python2"
  },
  "language_info": {
   "codemirror_mode": {
    "name": "ipython",
    "version": 2
   },
   "file_extension": ".py",
   "mimetype": "text/x-python",
   "name": "python",
   "nbconvert_exporter": "python",
   "pygments_lexer": "ipython2",
   "version": "2.7.12"
  }
 },
 "nbformat": 4,
 "nbformat_minor": 2
}
